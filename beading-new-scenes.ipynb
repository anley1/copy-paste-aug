{
 "cells": [
  {
   "cell_type": "code",
   "execution_count": 4,
   "id": "dfbc381d-503b-4cff-bdec-a2a5532bd115",
   "metadata": {},
   "outputs": [
    {
     "name": "stdout",
     "output_type": "stream",
     "text": [
      "The autoreload extension is already loaded. To reload it, use:\n",
      "  %reload_ext autoreload\n"
     ]
    }
   ],
   "source": [
    "%load_ext autoreload\n",
    "%autoreload 2\n",
    "%matplotlib inline"
   ]
  },
  {
   "cell_type": "code",
   "execution_count": 5,
   "id": "6157f5d3-47ec-4a9e-8689-fa2d7814439b",
   "metadata": {},
   "outputs": [],
   "source": [
    "import cv2\n",
    "import numpy as np\n",
    "from copy_paste import CopyPaste\n",
    "from coco import CocoDetectionCP\n",
    "from visualize import display_instances\n",
    "import albumentations as A\n",
    "import random\n",
    "from matplotlib import pyplot as plt"
   ]
  },
  {
   "cell_type": "code",
   "execution_count": 6,
   "id": "8eec0f06-2a3a-4536-af82-c855360942f9",
   "metadata": {},
   "outputs": [],
   "source": [
    "transform = A.Compose([\n",
    "        A.RandomScale(scale_limit=(-0.9, 1), p=1), #LargeScaleJitter from scale of 0.1 to 2\n",
    "        A.PadIfNeeded(256, 256, border_mode=0), #pads with image in the center, not the top left like the paper\n",
    "        A.Flip(always_apply=True, p=0.5),\n",
    "        A.Resize(800, 1333, always_apply=True, p=1),\n",
    "        #A.Solarize(always_apply=True, p=1.0, threshold=(128, 128)),\n",
    "        A.RandomCrop(534, 889),\n",
    "        #A.Resize(800, 1333, always_apply=True, p=1),\n",
    "        CopyPaste(blend=True, sigma=1, pct_objects_paste=0.8, p=1.) #pct_objects_paste is a guess\n",
    "    ], bbox_params=A.BboxParams(format=\"coco\")\n",
    ")\n"
   ]
  },
  {
   "cell_type": "code",
   "execution_count": 7,
   "id": "f69a5c2e-d535-432a-81de-dce50246446a",
   "metadata": {},
   "outputs": [],
   "source": [
    "transformScene = A.Compose([\n",
    "        #A.RandomScale(scale_limit=(-0.9, 1), p=1), #LargeScaleJitter from scale of 0.1 to 2\n",
    "        A.PadIfNeeded(256, 256, border_mode=0), #pads with image in the center, not the top left like the paper\n",
    "        #A.Resize(800, 1333, always_apply=True, p=1),\n",
    "        A.Resize(534, 889, always_apply=True, p=1),\n",
    "        #A.RandomCrop(534, 889),\n",
    "        #A.Resize(800, 1333, always_apply=True, p=1),\n",
    "    ], bbox_params=A.BboxParams(format=\"coco\", min_visibility=0.05)\n",
    ")\n"
   ]
  },
  {
   "cell_type": "code",
   "execution_count": 9,
   "id": "069dcaca-2cfa-4370-8233-33c8fd139405",
   "metadata": {},
   "outputs": [
    {
     "name": "stdout",
     "output_type": "stream",
     "text": [
      "loading annotations into memory...\n",
      "Done (t=0.00s)\n",
      "creating index...\n",
      "index created!\n"
     ]
    }
   ],
   "source": [
    "data = CocoDetectionCP(\n",
    "    '../Swin-Transformer-Object-Detection/data/flooding_high',\n",
    "    # '../agilent-repos/mmdetection/data/bead_cropped_detection/images',\n",
    "    #'../Swin-Transformer-Object-Detection/data/bead_cropped_detection/traintype2lower.json',\n",
    "    '../Swin-Transformer-Object-Detection/data/beading_basler',\n",
    "    '../Swin-Transformer-Object-Detection/data/basler_bead_non_cropped.json',\n",
    "    transform,\n",
    "    transformScene\n",
    ")"
   ]
  },
  {
   "cell_type": "code",
   "execution_count": 11,
   "id": "2a0318dc-e2f2-4780-87d0-af555a04e554",
   "metadata": {},
   "outputs": [
    {
     "ename": "IndexError",
     "evalue": "list index out of range",
     "output_type": "error",
     "traceback": [
      "\u001b[1;31m---------------------------------------------------------------------------\u001b[0m",
      "\u001b[1;31mIndexError\u001b[0m                                Traceback (most recent call last)",
      "\u001b[1;32m<ipython-input-11-06665a3a5d0a>\u001b[0m in \u001b[0;36m<module>\u001b[1;34m\u001b[0m\n\u001b[0;32m      4\u001b[0m \u001b[1;31m#index = random.randint(0, 6) # We are testing on the 6 with annotations\u001b[0m\u001b[1;33m\u001b[0m\u001b[1;33m\u001b[0m\u001b[1;33m\u001b[0m\u001b[0m\n\u001b[0;32m      5\u001b[0m \u001b[0mindex\u001b[0m \u001b[1;33m=\u001b[0m \u001b[1;36m5\u001b[0m  \u001b[1;31m# hardcode for testing\u001b[0m\u001b[1;33m\u001b[0m\u001b[1;33m\u001b[0m\u001b[0m\n\u001b[1;32m----> 6\u001b[1;33m \u001b[0mimg_data\u001b[0m \u001b[1;33m=\u001b[0m \u001b[0mdata\u001b[0m\u001b[1;33m[\u001b[0m\u001b[0mindex\u001b[0m\u001b[1;33m]\u001b[0m\u001b[1;33m\u001b[0m\u001b[1;33m\u001b[0m\u001b[0m\n\u001b[0m\u001b[0;32m      7\u001b[0m \u001b[0mimage\u001b[0m \u001b[1;33m=\u001b[0m \u001b[0mimg_data\u001b[0m\u001b[1;33m[\u001b[0m\u001b[1;34m'image'\u001b[0m\u001b[1;33m]\u001b[0m\u001b[1;33m\u001b[0m\u001b[1;33m\u001b[0m\u001b[0m\n\u001b[0;32m      8\u001b[0m \u001b[0mmasks\u001b[0m \u001b[1;33m=\u001b[0m \u001b[0mimg_data\u001b[0m\u001b[1;33m[\u001b[0m\u001b[1;34m'masks'\u001b[0m\u001b[1;33m]\u001b[0m\u001b[1;33m\u001b[0m\u001b[1;33m\u001b[0m\u001b[0m\n",
      "\u001b[1;32m~\\copy-paste-aug\\copy_paste.py\u001b[0m in \u001b[0;36m__getitem__\u001b[1;34m(self, idx)\u001b[0m\n\u001b[0;32m    316\u001b[0m             \u001b[1;31m# paste_idx = random.randint(0, self.c.__len__() - 1)\u001b[0m\u001b[1;33m\u001b[0m\u001b[1;33m\u001b[0m\u001b[1;33m\u001b[0m\u001b[0m\n\u001b[0;32m    317\u001b[0m             \u001b[0mpaste_idx\u001b[0m \u001b[1;33m=\u001b[0m \u001b[1;36m12\u001b[0m  \u001b[1;31m# hardcode for testing\u001b[0m\u001b[1;33m\u001b[0m\u001b[1;33m\u001b[0m\u001b[0m\n\u001b[1;32m--> 318\u001b[1;33m             \u001b[0mpaste_img_data\u001b[0m \u001b[1;33m=\u001b[0m \u001b[0mself\u001b[0m\u001b[1;33m.\u001b[0m\u001b[0mload_example\u001b[0m\u001b[1;33m(\u001b[0m\u001b[0mpaste_idx\u001b[0m\u001b[1;33m)\u001b[0m\u001b[1;33m\u001b[0m\u001b[1;33m\u001b[0m\u001b[0m\n\u001b[0m\u001b[0;32m    319\u001b[0m             \u001b[1;32mfor\u001b[0m \u001b[0mk\u001b[0m \u001b[1;32min\u001b[0m \u001b[0mlist\u001b[0m\u001b[1;33m(\u001b[0m\u001b[0mpaste_img_data\u001b[0m\u001b[1;33m.\u001b[0m\u001b[0mkeys\u001b[0m\u001b[1;33m(\u001b[0m\u001b[1;33m)\u001b[0m\u001b[1;33m)\u001b[0m\u001b[1;33m:\u001b[0m\u001b[1;33m\u001b[0m\u001b[1;33m\u001b[0m\u001b[0m\n\u001b[0;32m    320\u001b[0m                 \u001b[0mpaste_img_data\u001b[0m\u001b[1;33m[\u001b[0m\u001b[1;34m'paste_'\u001b[0m \u001b[1;33m+\u001b[0m \u001b[0mk\u001b[0m\u001b[1;33m]\u001b[0m \u001b[1;33m=\u001b[0m \u001b[0mpaste_img_data\u001b[0m\u001b[1;33m[\u001b[0m\u001b[0mk\u001b[0m\u001b[1;33m]\u001b[0m\u001b[1;33m\u001b[0m\u001b[1;33m\u001b[0m\u001b[0m\n",
      "\u001b[1;32m~\\copy-paste-aug\\coco.py\u001b[0m in \u001b[0;36mload_example\u001b[1;34m(self, index, scene)\u001b[0m\n\u001b[0;32m     70\u001b[0m         \u001b[0mscene\u001b[0m\u001b[1;33m:\u001b[0m\u001b[1;33m:\u001b[0m \u001b[1;33m(\u001b[0m\u001b[0mbool\u001b[0m\u001b[1;33m)\u001b[0m \u001b[0mto\u001b[0m \u001b[0mload\u001b[0m \u001b[1;32mfrom\u001b[0m \u001b[0man\u001b[0m \u001b[0mempty\u001b[0m \u001b[0mscene\u001b[0m \u001b[1;32mor\u001b[0m \u001b[1;32mnot\u001b[0m\u001b[1;33m.\u001b[0m\u001b[1;33m\u001b[0m\u001b[1;33m\u001b[0m\u001b[0m\n\u001b[0;32m     71\u001b[0m         \"\"\"\n\u001b[1;32m---> 72\u001b[1;33m         \u001b[0mimg_id\u001b[0m \u001b[1;33m=\u001b[0m \u001b[0mself\u001b[0m\u001b[1;33m.\u001b[0m\u001b[0mc\u001b[0m\u001b[1;33m.\u001b[0m\u001b[0mids\u001b[0m\u001b[1;33m[\u001b[0m\u001b[0mindex\u001b[0m\u001b[1;33m]\u001b[0m\u001b[1;33m\u001b[0m\u001b[1;33m\u001b[0m\u001b[0m\n\u001b[0m\u001b[0;32m     73\u001b[0m         \u001b[0mann_ids\u001b[0m \u001b[1;33m=\u001b[0m \u001b[0mself\u001b[0m\u001b[1;33m.\u001b[0m\u001b[0mc\u001b[0m\u001b[1;33m.\u001b[0m\u001b[0mcoco\u001b[0m\u001b[1;33m.\u001b[0m\u001b[0mgetAnnIds\u001b[0m\u001b[1;33m(\u001b[0m\u001b[0mimgIds\u001b[0m\u001b[1;33m=\u001b[0m\u001b[0mimg_id\u001b[0m\u001b[1;33m)\u001b[0m\u001b[1;33m\u001b[0m\u001b[1;33m\u001b[0m\u001b[0m\n\u001b[0;32m     74\u001b[0m         \u001b[0mtarget\u001b[0m \u001b[1;33m=\u001b[0m \u001b[0mself\u001b[0m\u001b[1;33m.\u001b[0m\u001b[0mc\u001b[0m\u001b[1;33m.\u001b[0m\u001b[0mcoco\u001b[0m\u001b[1;33m.\u001b[0m\u001b[0mloadAnns\u001b[0m\u001b[1;33m(\u001b[0m\u001b[0mann_ids\u001b[0m\u001b[1;33m)\u001b[0m\u001b[1;33m\u001b[0m\u001b[1;33m\u001b[0m\u001b[0m\n",
      "\u001b[1;31mIndexError\u001b[0m: list index out of range"
     ]
    },
    {
     "data": {
      "image/png": "[encoded data removed]",
      "text/plain": [
       "<Figure size 1152x1152 with 2 Axes>"
      ]
     },
     "metadata": {
      "needs_background": "light"
     },
     "output_type": "display_data"
    }
   ],
   "source": [
    "f, ax = plt.subplots(1, 2, figsize=(16, 16))\n",
    "\n",
    "#index = random.randint(0, len(data))\n",
    "#index = random.randint(0, 6) # We are testing on the 6 with annotations\n",
    "index = 5  # hardcode for testing\n",
    "img_data = data[index]\n",
    "image = img_data['image']\n",
    "masks = img_data['masks']\n",
    "bboxes = img_data['bboxes']\n",
    "\n",
    "empty = np.array([])\n",
    "display_instances(image, empty, empty, empty, empty, show_mask=False, show_bbox=False, ax=ax[0])\n",
    "\n",
    "if len(bboxes) > 0:\n",
    "    boxes = np.stack([b[:4] for b in bboxes], axis=0)\n",
    "    box_classes = np.array([b[-2] for b in bboxes])\n",
    "    mask_indices = np.array([b[-1] for b in bboxes])\n",
    "    show_masks = np.stack(masks, axis=-1)[..., mask_indices]\n",
    "    class_names = {k: data.c.coco.cats[k]['name'] for k in\n",
    "                   data.c.coco.cats.keys()}\n",
    "    display_instances(image, boxes, show_masks, box_classes, class_names, show_bbox=True, ax=ax[1])\n",
    "else:\n",
    "    display_instances(image, empty, empty, empty, empty, show_mask=False, show_bbox=False, ax=ax[1])"
   ]
  },
  {
   "cell_type": "code",
   "execution_count": null,
   "id": "48d94e38-8d92-4371-83e6-717eb27eb600",
   "metadata": {},
   "outputs": [],
   "source": []
  }
 ],
 "metadata": {
  "kernelspec": {
   "display_name": "Python 3",
   "language": "python",
   "name": "python3"
  },
  "language_info": {
   "codemirror_mode": {
    "name": "ipython",
    "version": 3
   },
   "file_extension": ".py",
   "mimetype": "text/x-python",
   "name": "python",
   "nbconvert_exporter": "python",
   "pygments_lexer": "ipython3",
   "version": "3.7.10"
  }
 },
 "nbformat": 4,
 "nbformat_minor": 5
}
